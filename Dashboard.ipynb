{
 "cells": [
  {
   "cell_type": "markdown",
   "metadata": {},
   "source": [
    "[DIY Disease Tracking Dashboard Kit](https://github.com/fsmeraldi/diy-covid19dash) (C) Fabrizio Smeraldi, 2020,2024 ([f.smeraldi@qmul.ac.uk](mailto:f.smeraldi@qmul.ac.uk) - [web](http://www.eecs.qmul.ac.uk/~fabri/)). This notebook is released under the [GNU GPLv3.0 or later](https://www.gnu.org/licenses/)."
   ]
  },
  {
   "cell_type": "markdown",
   "metadata": {},
   "source": [
    "# DIY Disease Tracking Dashboard"
   ]
  },
  {
   "cell_type": "markdown",
   "metadata": {},
   "source": [
    "This is a template for your DIY Disease Tracking Dashboard, to which you can add the code you developed in the previous notebooks. The dashboard will be displayed using [voila](https://voila.readthedocs.io/en/stable/index.html), a Python dashboarding tool that converts notebooks to standalone dashboards. Contrary to the other libraries we have seen, the ```voila``` package must be installed using *pip* or *conda* but it does not need to be imported - it rather acts at the level of the notebook server. Package ```voila``` is already installed on the QMUL JupyterHub as well as in the Binder - to install it locally, follow the [instructions](https://voila.readthedocs.io/en/stable/install.html) online.\n",
    "\n",
    "Broadly speaking, Voila acts by **running all the cells in your notebook** when the dashboard is first loaded; it then hides all code cells and displays all markdown cells and any outputs, including widgets. However, the code is still there in the background and handles any interaction with the widgets. To view this dashboard template rendered in Voila click [here](https://mybinder.org/v2/gh/fsmeraldi/diy-covid19dash/main?urlpath=%2Fvoila%2Frender%2FDashboard.ipynb)."
   ]
  },
  {
   "cell_type": "code",
   "execution_count": 21,
   "metadata": {},
   "outputs": [],
   "source": [
    "# COVID-19 Dashboard\n",
    "#This dashboard provides an interactive way to explore COVID-19 cases data.\n",
    "\n",
    "## Features\n",
    "#- View daily COVID-19 cases over time.\n",
    "#- Refresh data using the \"Refresh Data\" button to fetch the latest information.\n",
    "#- Select data to display using the dropdown menu.\n"
   ]
  },
  {
   "cell_type": "code",
   "execution_count": 1,
   "metadata": {},
   "outputs": [],
   "source": [
    "from IPython.display import clear_output\n",
    "import ipywidgets as wdg\n",
    "import pandas as pd\n",
    "import numpy as np\n",
    "import matplotlib.pyplot as plt\n",
    "import requests\n",
    "import time\n",
    "import json"
   ]
  },
  {
   "cell_type": "code",
   "execution_count": 2,
   "metadata": {},
   "outputs": [],
   "source": [
    "%matplotlib inline\n",
    "# make figures larger\n",
    "plt.rcParams['figure.dpi'] = 100"
   ]
  },
  {
   "cell_type": "markdown",
   "metadata": {},
   "source": [
    "## Load initial data from disk\n",
    "\n",
    "You should include \"canned\" data in ```.json``` files along with your dashboard. When the dashboard starts, it should load that data and assign it as a dictionary to the ```jsondata``` variable (the code below will be hidden when the dashboard is rendered by Voila)."
   ]
  },
  {
   "cell_type": "code",
   "execution_count": 4,
   "metadata": {},
   "outputs": [],
   "source": [
    "# Load JSON files and store the raw data in some variable. Edit as appropriate\n",
    "jsondata={}\n",
    "with open(\"COVID-19_cases_casesByDay.json\", \"rt\") as infile:\n",
    "    jsondata[\"cases\"] = json.load(infile)"
   ]
  },
  {
   "cell_type": "markdown",
   "metadata": {},
   "source": [
    "## Wrangle the data\n",
    "\n",
    "The dashboard should contain the logic to wrangle the raw data into a ```DataFrame``` (or more than one, as required) that will be used for plotting. The wrangling code should be put into a function and called on the data from the JSON file (we'll need to call it again on any data downloaded from the API).  In this template, we just pretend we are wrangling ```rawdata``` and instead generate a dataframe with some random data"
   ]
  },
  {
   "cell_type": "code",
   "execution_count": 7,
   "metadata": {},
   "outputs": [
    {
     "data": {
      "text/html": [
       "<div>\n",
       "<style scoped>\n",
       "    .dataframe tbody tr th:only-of-type {\n",
       "        vertical-align: middle;\n",
       "    }\n",
       "\n",
       "    .dataframe tbody tr th {\n",
       "        vertical-align: top;\n",
       "    }\n",
       "\n",
       "    .dataframe thead th {\n",
       "        text-align: right;\n",
       "    }\n",
       "</style>\n",
       "<table border=\"1\" class=\"dataframe\">\n",
       "  <thead>\n",
       "    <tr style=\"text-align: right;\">\n",
       "      <th></th>\n",
       "      <th>Cases</th>\n",
       "    </tr>\n",
       "  </thead>\n",
       "  <tbody>\n",
       "    <tr>\n",
       "      <th>2020-01-30</th>\n",
       "      <td>1.0</td>\n",
       "    </tr>\n",
       "    <tr>\n",
       "      <th>2020-01-31</th>\n",
       "      <td>0.0</td>\n",
       "    </tr>\n",
       "    <tr>\n",
       "      <th>2020-02-01</th>\n",
       "      <td>0.0</td>\n",
       "    </tr>\n",
       "    <tr>\n",
       "      <th>2020-02-02</th>\n",
       "      <td>1.0</td>\n",
       "    </tr>\n",
       "    <tr>\n",
       "      <th>2020-02-03</th>\n",
       "      <td>18.0</td>\n",
       "    </tr>\n",
       "    <tr>\n",
       "      <th>...</th>\n",
       "      <td>...</td>\n",
       "    </tr>\n",
       "    <tr>\n",
       "      <th>2024-11-22</th>\n",
       "      <td>144.0</td>\n",
       "    </tr>\n",
       "    <tr>\n",
       "      <th>2024-11-23</th>\n",
       "      <td>152.0</td>\n",
       "    </tr>\n",
       "    <tr>\n",
       "      <th>2024-11-24</th>\n",
       "      <td>103.0</td>\n",
       "    </tr>\n",
       "    <tr>\n",
       "      <th>2024-11-25</th>\n",
       "      <td>109.0</td>\n",
       "    </tr>\n",
       "    <tr>\n",
       "      <th>2024-11-26</th>\n",
       "      <td>31.0</td>\n",
       "    </tr>\n",
       "  </tbody>\n",
       "</table>\n",
       "<p>1763 rows × 1 columns</p>\n",
       "</div>"
      ],
      "text/plain": [
       "            Cases\n",
       "2020-01-30    1.0\n",
       "2020-01-31    0.0\n",
       "2020-02-01    0.0\n",
       "2020-02-02    1.0\n",
       "2020-02-03   18.0\n",
       "...           ...\n",
       "2024-11-22  144.0\n",
       "2024-11-23  152.0\n",
       "2024-11-24  103.0\n",
       "2024-11-25  109.0\n",
       "2024-11-26   31.0\n",
       "\n",
       "[1763 rows x 1 columns]"
      ]
     },
     "execution_count": 7,
     "metadata": {},
     "output_type": "execute_result"
    }
   ],
   "source": [
    "def wrangle_data(rawdata):\n",
    "    \"\"\"\n",
    "    Parameters:\n",
    "    - rawdata: data from JSON file or API call.\n",
    "\n",
    "    Returns:\n",
    "    - A DataFrame suitable for plotting.\n",
    "    \"\"\"\n",
    "    # Initialize the DataFrame\n",
    "    df = pd.DataFrame(columns=['Date', 'Cases'])\n",
    "\n",
    "    # Extract and structure data\n",
    "    data = []\n",
    "    for entry in rawdata.get(\"cases\", []):  # Assume \"cases\" key in rawdata\n",
    "        date = entry.get(\"date\")\n",
    "        value = entry.get(\"metric_value\", 0.0)\n",
    "        data.append({\"Date\": date, \"Cases\": value})\n",
    "\n",
    "    # Create the DataFrame\n",
    "    df = pd.DataFrame(data)\n",
    "    df[\"Date\"] = pd.to_datetime(df[\"Date\"])\n",
    "    df.set_index(\"Date\", inplace=True)\n",
    "\n",
    "    # Fill missing dates if needed\n",
    "    start_date = df.index.min()\n",
    "    end_date = df.index.max()\n",
    "    full_index = pd.date_range(start=start_date, end=end_date, freq='D')\n",
    "    df = df.reindex(full_index)\n",
    "    df.fillna(0.0, inplace=True)\n",
    "\n",
    "    return df\n",
    "\n",
    "# Example call to wrangle the data\n",
    "df = wrangle_data(jsondata)  # Replace jsondata with your loaded JSON data\n",
    "\n",
    "# Display the first few rows to verify\n",
    "df\n"
   ]
  },
  {
   "cell_type": "markdown",
   "metadata": {},
   "source": [
    "## Download current data"
   ]
  },
  {
   "cell_type": "markdown",
   "metadata": {},
   "source": [
    "Give your users an option to refresh the dataset - a \"refresh\" button will do. The button callback should\n",
    "* call the code that accesses the API and download some fresh raw data;\n",
    "* wrangle that data into a dataframe and update the corresponding (global) variable for plotting (here, ```df```);\n",
    "* optionally: force a redraw of the graph and give the user some fredback.\n",
    "\n",
    "Once you get it to work, you may want to wrap your API call inside an exception handler, so that the user is informed, the \"canned\" data are not overwritten and nothing crashes if for any reason the server cannot be reached or data are not available.\n",
    "\n",
    "After you refresh the data, graphs will not update until the user interacts with a widget. You can trick ```iPywidgets``` into redrawing the graph by simulating interaction, as in the ```refresh_graph``` function we define in the Graph and Analysis section below.\n",
    "\n",
    "In this example, clicking on the button below just generates some more random data and refreshes the graph. The button should read *Fetch Data*. If you see anything else, take a deep breath :)"
   ]
  },
  {
   "cell_type": "code",
   "execution_count": 8,
   "metadata": {},
   "outputs": [],
   "source": [
    "# Place your API access code in this function. Do not call this function directly; it will be called by \n",
    "# the button callback. \n",
    "def access_api():\n",
    "    \"\"\" Accesses the UKHSA API. Return data as a like-for-like replacement for the \"canned\" data loaded from the JSON file. \"\"\"\n",
    "    return {} # return data read from the API"
   ]
  },
  {
   "cell_type": "code",
   "execution_count": 17,
   "metadata": {},
   "outputs": [
    {
     "data": {
      "application/vnd.jupyter.widget-view+json": {
       "model_id": "5ae0cc5cf1144cf58a809293a26797ed",
       "version_major": 2,
       "version_minor": 0
      },
      "text/plain": [
       "Button(button_style='info', description='Refresh Data', icon='download', style=ButtonStyle(), tooltip='Click t…"
      ]
     },
     "metadata": {},
     "output_type": "display_data"
    }
   ],
   "source": [
    "# Placeholder for the global DataFrame\n",
    "# Define the function to access the API\n",
    "def access_api():\n",
    "    \"\"\"\n",
    "    Accesses the UKHSA API and retrieves fresh data.\n",
    "    Returns a like-for-like replacement for the 'canned' data.\n",
    "    \"\"\"\n",
    "    try:\n",
    "        # API URL\n",
    "        api_url = \"https://api.ukhsa-dashboard.data.gov.uk/themes/infectious_disease/sub_themes/respiratory/topics/COVID-19/geography_types/Nation/geographies/England/metrics/COVID-19_cases_casesByDay\"\n",
    "        \n",
    "        # Make the API request\n",
    "        response = requests.get(api_url, params={\"page_size\": 365})\n",
    "        response.raise_for_status()  # Raise an HTTPError if response is not 200\n",
    "        return response.json()  # Return the JSON response\n",
    "    except requests.exceptions.RequestException as e:\n",
    "        print(f\"Error accessing the API: {e}\")\n",
    "        return {}  # Return an empty dictionary on failure\n",
    "\n",
    "# API Button Callback\n",
    "def api_button_callback(button):\n",
    "    \"\"\"\n",
    "    Button callback: fetches data from the API, wrangles it, updates the global DataFrame,\n",
    "    and refreshes the graph.\n",
    "    \"\"\"\n",
    "    global df\n",
    "    apidata = access_api()\n",
    "    \n",
    "    if apidata:\n",
    "        # Wrangle the data into a DataFrame\n",
    "        df = wrangle_data(apidata)\n",
    "        print(\"Data refreshed successfully!\")\n",
    "    else:\n",
    "        print(\"Failed to fetch data from the API.\")\n",
    "    \n",
    "    # Simulate graph refresh\n",
    "    refresh_graph()\n",
    "\n",
    "    # Provide feedback via the button appearance\n",
    "    apibutton.icon = \"check\"\n",
    "    apibutton.description = \"Data Updated\"\n",
    "\n",
    "\n",
    "# Define a placeholder for graph refresh (to be implemented in the graph section)\n",
    "def refresh_graph():\n",
    "    \"\"\"\n",
    "    Forces a redraw of the graph by toggling the widget value.\n",
    "    Useful after refreshing the data.\n",
    "    \"\"\"\n",
    "    current = stat_selector.value\n",
    "    options = list(stat_selector.options)\n",
    "    other = options[0] if current != options[0] else options[1]\n",
    "    stat_selector.value = other  # Change to another option\n",
    "    stat_selector.value = current  # Change back to force redraw\n",
    "    \n",
    "# Create the refresh button\n",
    "apibutton = wdg.Button(\n",
    "    description=\"Refresh Data\",\n",
    "    disabled=False,\n",
    "    button_style=\"info\",  # Change button style (e.g., 'success', 'danger', etc.)\n",
    "    tooltip=\"Click to download current data from the UKHSA API\",\n",
    "    icon=\"download\"\n",
    ")\n",
    "\n",
    "# Register the callback function with the button\n",
    "apibutton.on_click(api_button_callback)\n",
    "\n",
    "# Display the button in the notebook\n",
    "display(apibutton)"
   ]
  },
  {
   "cell_type": "markdown",
   "metadata": {},
   "source": [
    "## Graphs and Analysis"
   ]
  },
  {
   "cell_type": "markdown",
   "metadata": {},
   "source": [
    "Include at least one graph with interactive controls, as well as some instructions for the user and/or comments on what the graph represents and how it should be explored (this example shows two random walks)"
   ]
  },
  {
   "cell_type": "code",
   "execution_count": 20,
   "metadata": {},
   "outputs": [
    {
     "data": {
      "application/vnd.jupyter.widget-view+json": {
       "model_id": "c73b13e56622453a9d7de5a981f7f911",
       "version_major": 2,
       "version_minor": 0
      },
      "text/plain": [
       "Dropdown(description='Statistic:', options=('Cases',), value='Cases')"
      ]
     },
     "metadata": {},
     "output_type": "display_data"
    },
    {
     "data": {
      "application/vnd.jupyter.widget-view+json": {
       "model_id": "477c957f144a4957a21b0b7186d5b476",
       "version_major": 2,
       "version_minor": 0
      },
      "text/plain": [
       "Output()"
      ]
     },
     "metadata": {},
     "output_type": "display_data"
    },
    {
     "data": {
      "application/vnd.jupyter.widget-view+json": {
       "model_id": "5ae0cc5cf1144cf58a809293a26797ed",
       "version_major": 2,
       "version_minor": 0
      },
      "text/plain": [
       "Button(button_style='info', description='Refresh Data', icon='download', style=ButtonStyle(), tooltip='Click t…"
      ]
     },
     "metadata": {},
     "output_type": "display_data"
    }
   ],
   "source": [
    "# Graph Refresh Function\n",
    "def refresh_graph():\n",
    "    \"\"\"\n",
    "    Forces a redraw of the graph by toggling the widget value.\n",
    "    Useful after refreshing the data.\n",
    "    \"\"\"\n",
    "    current = stat_selector.value\n",
    "    options = list(stat_selector.options)\n",
    "    other = options[0] if current != options[0] else options[1]\n",
    "    stat_selector.value = other  # Change to another option\n",
    "    stat_selector.value = current  # Change back to force redraw\n",
    "\n",
    "# Plotting Function\n",
    "def plot_covid_data(stat):\n",
    "    \"\"\"\n",
    "    Plots the selected statistic (e.g., cases) from the DataFrame.\n",
    "    \"\"\"\n",
    "    if stat in df.columns:\n",
    "        df[stat].plot(figsize=(10, 5), legend=True)\n",
    "        plt.title(f\"COVID-19 {stat.capitalize()} Over Time\")\n",
    "        plt.xlabel(\"Date\")\n",
    "        plt.ylabel(\"Values\")\n",
    "        plt.grid(True)\n",
    "        plt.show()\n",
    "    else:\n",
    "        print(\"Selected statistic is not available in the DataFrame.\")\n",
    "\n",
    "# Interactive Widget for Statistic Selection\n",
    "stat_selector = wdg.Dropdown(\n",
    "    options=df.columns,  # Populate options dynamically from DataFrame columns\n",
    "    value=df.columns[0],  # Default to the first column\n",
    "    description=\"Statistic:\",\n",
    "    disabled=False,\n",
    ")\n",
    "\n",
    "# Graph Interaction\n",
    "graph = wdg.interactive_output(plot_covid_data, {\"stat\": stat_selector})\n",
    "\n",
    "# Display Interactive Components\n",
    "display(stat_selector, graph)\n",
    "display(apibutton)"
   ]
  },
  {
   "cell_type": "markdown",
   "metadata": {},
   "source": [
    "## Deploying the dashboard\n",
    "\n",
    "Once your code is ready and you are satisfied with the appearance of the graphs, replace all the text boxes above with the explanations you would like a dashboard user to see. The next step is deploying the dashboard online - there are several [options](https://voila.readthedocs.io/en/stable/deploy.html) for this, we suggest deploying as a [Binder](https://mybinder.org/). This is basically the same technique that has been used to package this tutorial and to deploy this template dashboard. The instructions may seem a bit involved, but the actual steps are surprisingly easy - we will be going through them together during a live session. You will need an account on [GitHub](https://github.com/) for this - if you don't have one already, now it's the time to create it. "
   ]
  },
  {
   "cell_type": "markdown",
   "metadata": {},
   "source": [
    "**Author and License** Remember that if you deploy your dashboard as a Binder it will be publicly accessible. Change the copyright notice and take credit for your work! Also acknowledge your sources and the conditions of the license by including this notice: \"Based on UK Government [data](https://ukhsa-dashboard.data.gov.uk/) published by the [UK Health Security Agency](https://www.gov.uk/government/organisations/uk-health-security-agency) and on the [DIY Disease Tracking Dashboard Kit](https://github.com/fsmeraldi/diy-covid19dash) by Fabrizio Smeraldi. Released under the [GNU GPLv3.0 or later](https://www.gnu.org/licenses/).\""
   ]
  }
 ],
 "metadata": {
  "kernelspec": {
   "display_name": "Python 3 (ipykernel)",
   "language": "python",
   "name": "python3"
  },
  "language_info": {
   "codemirror_mode": {
    "name": "ipython",
    "version": 3
   },
   "file_extension": ".py",
   "mimetype": "text/x-python",
   "name": "python",
   "nbconvert_exporter": "python",
   "pygments_lexer": "ipython3",
   "version": "3.11.9"
  }
 },
 "nbformat": 4,
 "nbformat_minor": 4
}
